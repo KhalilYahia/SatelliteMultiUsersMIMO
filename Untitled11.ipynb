{
  "cells": [
    {
      "cell_type": "markdown",
      "source": [
        "### **ملاحظة مهمة جدا**\n",
        "\n",
        "\n"
      ],
      "metadata": {
        "id": "UeZoVPWHvJoC"
      }
    },
    {
      "cell_type": "code",
      "execution_count": null,
      "metadata": {
        "colab": {
          "base_uri": "https://localhost:8080/"
        },
        "id": "6RkSLMUZT3WT",
        "outputId": "3832a3da-47da-4944-a416-c4c72d0ec457"
      },
      "outputs": [
        {
          "output_type": "stream",
          "name": "stdout",
          "text": [
            "Mounted at /content/drive\n"
          ]
        }
      ],
      "source": [
        "from google.colab import drive\n",
        "drive.mount('/content/drive')\n",
        "#drive.mount('https://drive.google.com/drive/folders/12uRZG9kR_sMer8XffgOdiEMYp-rhWPGu?usp=share_link/channelLMS_NTN_19_4_32_2.csv')"
      ]
    },
    {
      "cell_type": "code",
      "execution_count": null,
      "metadata": {
        "id": "UJpHpopSOD7O"
      },
      "outputs": [],
      "source": [
        "from pandas import read_csv\n",
        "import numpy as np\n",
        "dataframe = read_csv('drive/MyDrive/DataColab_matlab/channelLMS_NTN_19_4_32_2.csv', engine='python')\n",
        "dataset = dataframe.values\n",
        "\n",
        "#dataset = dataset.astype('complex')\n"
      ]
    },
    {
      "cell_type": "code",
      "execution_count": null,
      "metadata": {
        "id": "JQj57H_maTzw"
      },
      "outputs": [],
      "source": [
        "#print(len(dataset))\n",
        "excel_=np.zeros((90000,64))\n"
      ]
    },
    {
      "cell_type": "code",
      "execution_count": null,
      "metadata": {
        "id": "m_7S3UHuV-2Y"
      },
      "outputs": [],
      "source": [
        "\n",
        "\n",
        "\n",
        "def SaveResult_intemp_Object(V,numberOfUser,index_in_excel):\n",
        "  temp_excel = np.zeros((2,64))\n",
        "  #path = 'pandas_to_excel.xlsx'\n",
        "\n",
        "  df = pd.DataFrame()\n",
        "  for i in range(numberOfUser):\n",
        "    temp_excel[:,0:32]=np.real(V[i].T)\n",
        "    temp_excel[:,32:64]=np.imag(V[i].T)\n",
        "    excel_[index_in_excel,:] = temp_excel[0,:]\n",
        "    excel_[index_in_excel+1,:] = temp_excel[1,:]\n",
        "    index_in_excel =index_in_excel+3\n",
        "\n",
        "  excel_[index_in_excel-1,:]  = np.ones((1,64))\n",
        "\n",
        "  return index_in_excel\n",
        "   # df_2 =pd.DataFrame(temp_excel)\n",
        "   #df.to_excel('pandas_to_excel.xlsx', sheet_name='new1')\n",
        "\n",
        "\n",
        "\n",
        "\n",
        "\n",
        "#SaveResult(V,10)\n",
        "#df = pd.DataFrame(np.real(V[1].T),\n",
        "#                  index=['one', 'two', 'three'], columns=['a', 'b', 'c'])\n",
        "\n",
        "#print(df)\n"
      ]
    },
    {
      "cell_type": "code",
      "execution_count": null,
      "metadata": {
        "id": "kq7YrkYoBVBW"
      },
      "outputs": [],
      "source": [
        "import pandas as pd\n",
        "import openpyxl\n",
        "\n",
        "def save_inExcel(excel_2):\n",
        "   df =pd.DataFrame(excel_2)\n",
        "   df.to_excel('drive/MyDrive/DataColab_matlab/result_1_3000_with_Power_1000_goodresult.xlsx', sheet_name='new1')"
      ]
    },
    {
      "cell_type": "code",
      "execution_count": null,
      "metadata": {
        "colab": {
          "base_uri": "https://localhost:8080/",
          "height": 892
        },
        "id": "YWyRhStBJCPB",
        "outputId": "12ef0591-0fe7-4464-cab5-b3c57f311b1a"
      },
      "outputs": [
        {
          "output_type": "stream",
          "name": "stdout",
          "text": [
            "0\n",
            "1\n",
            "2\n",
            "3\n",
            "4\n",
            "5\n",
            "6\n",
            "7\n",
            "8\n",
            "9\n",
            "10\n",
            "11\n",
            "12\n",
            "13\n",
            "14\n",
            "15\n",
            "16\n",
            "17\n",
            "18\n",
            "19\n"
          ]
        },
        {
          "output_type": "stream",
          "name": "stderr",
          "text": [
            "/usr/local/lib/python3.10/dist-packages/matplotlib/cbook/__init__.py:1335: ComplexWarning: Casting complex values to real discards the imaginary part\n",
            "  return np.asarray(x, float)\n"
          ]
        },
        {
          "output_type": "display_data",
          "data": {
            "text/plain": [
              "<Figure size 640x480 with 1 Axes>"
            ],
            "image/png": "[encoded data removed]"
          },
          "metadata": {}
        },
        {
          "output_type": "stream",
          "name": "stdout",
          "text": [
            "(64.21954881237298-3.3933988732177207e-15j)\n",
            "[64.21954198+1.65071123e-15j 64.21955565-8.43750897e-15j]\n"
          ]
        }
      ],
      "source": [
        "import numpy as np\n",
        "import random\n",
        "import matplotlib.pyplot as plt\n",
        "\n",
        "# Update of Uk, Wk, Vk\n",
        "def update_Uk(A, U, V, H, K, Nr):\n",
        "    for k in range(K):\n",
        "        A_item = np.zeros((Nr,Nr),complex)\n",
        "        for m in range(K):\n",
        "            A_item += H[k].dot(V[m]).dot(V[m].conjugate().T).dot(H[k].conjugate().T)\n",
        "        A[k] = sigma**2/PT*np.sum([np.trace(np.dot(V[i],V[i].conjugate().T)) for i in range(K)])*np.eye(Nr) + A_item\n",
        "        U[k] = np.linalg.inv(A[k]).dot(H[k]).dot(V[k])\n",
        "    return U\n",
        "\n",
        "def update_Wk(U, V, W_old, W, K, d):\n",
        "    for k in range(K):\n",
        "        E = np.eye(d) + 0j*np.eye(d) -(U[k].conjugate().T).dot(H[k]).dot(V[k])\n",
        "        W_old[k] = W[k]\n",
        "        W[k] = np.linalg.inv(E)\n",
        "    return W, W_old\n",
        "\n",
        "def update_Vk(V, W, U, H, K, Nt, sigma):\n",
        "    for k in range(K):\n",
        "        B_item = np.zeros((Nt,Nt),complex)\n",
        "        for m in range(K):\n",
        "            B_item += (H[m].conjugate().T).dot(U[m]).dot(W[m]).dot(U[m].conjugate().T).dot(H[m])\n",
        "        B = B_item + sigma**2/PT*np.sum([np.trace(U[i].dot(W[i]).dot(U[i].conjugate().T)) for i in range(K)])*np.eye(Nt)\n",
        "        V[k] = np.linalg.inv(B).dot(H[k].conjugate().T).dot(U[k]).dot(W[k])\n",
        "    #Scale\n",
        "    alpha = np.sqrt(PT/np.sum([np.trace(np.dot(V[i],V[i].conjugate().T)) for i in range(K)]))\n",
        "    for k in range(K):\n",
        "        V[k] = alpha * V[k]\n",
        "    return V\n",
        "\n",
        "# Khalil code\n",
        "def calculate_sumRate(H,V,K,d):\n",
        "  m_notEqual_k=0\n",
        "  sum_rate_kh=0\n",
        "  for k in range(K):\n",
        "    I_mat_kh=np.eye(d) + 0j*np.eye(d) # -(U[k].conjugate().T).dot(H[k]).dot(V[k])\n",
        "    m_notEqual_k=0\n",
        "    for m in range(K):\n",
        "      if(m!=k):\n",
        "        #print(m)\n",
        "        m_notEqual_k = m_notEqual_k + np.dot(H[k],np.dot(V[m],np.dot(V[m].conjugate().T,H[k].conjugate().T)))\n",
        "    m_notEqual_k = m_notEqual_k + sigma**2 *I_mat_kh\n",
        "    m_notEqual_k = np.linalg.inv(m_notEqual_k)\n",
        "    temp_help = np.dot(H[k],np.dot(V[k],np.dot(V[k].conjugate().T,np.dot(H[k].conjugate().T,m_notEqual_k))))\n",
        "    #temp_help = np.dot(temp_help,m_notEqual_k)\n",
        "    temp_help = I_mat_kh + temp_help\n",
        "    sum_rate_kh = sum_rate_kh + np.log(np.linalg.det(temp_help))\n",
        "\n",
        "  return sum_rate_kh\n",
        "\n",
        "\n",
        "\n",
        "\n",
        "PT_array=np.array([1000])\n",
        "index_in_excel=0\n",
        "for pt_index in range(1):\n",
        "  K = 10\n",
        "  PT = PT_array[pt_index]\n",
        "  sigma = 1\n",
        "  epsilon = 1e-5\n",
        "  d = 2\n",
        "  Nr = 2\n",
        "  Nt = 32\n",
        "  Imax = 100  #The maximum number of iterations\n",
        "  err = float(\"inf\")\n",
        "  alpha=1\n",
        "  dataset_shift=0\n",
        "\n",
        "  rate=[]\n",
        "\n",
        "  channel_index=0\n",
        "  temp_H = np.zeros((2,Nt))+1j*np.zeros((2,Nt))\n",
        "\n",
        "  for num_test in range(2):\n",
        "      #initial H\n",
        "      mean1 = np.zeros(Nr)\n",
        "      cov1 = np.eye(Nr)\n",
        "      data = np.zeros((Nr,Nt))+1j*np.zeros((Nr,Nt))\n",
        "      H = np.zeros((K,Nr,Nt))+1j*np.zeros((K,Nr,Nt))\n",
        "\n",
        "\n",
        "\n",
        "      for i in range(K):\n",
        "        print(channel_index)\n",
        "        data1 = np.random.multivariate_normal(mean1,cov1,Nt)\n",
        "        data2 = np.random.multivariate_normal(mean1,cov1,Nt)\n",
        "\n",
        "        sum_fr =0; # khalil _ delete me\n",
        "        for v1 in range(2):\n",
        "          for v2 in range(Nt):\n",
        "            #temp_H[v1,v2]=complex(''.join((dataset[channel_index*3+v1,v2]).split()))\n",
        "            temp_H[v1,v2]=complex(dataset[channel_index*3+v1+dataset_shift,v2],dataset[channel_index*3+v1+dataset_shift,v2+32])\n",
        "            #temp_H[v1,v2]=complex(dataset[dataset_shift+(channel_index*3)+v1,v2],dataset[dataset_shift+(channel_index*3)+v1+dataset_shift,v2+32])\n",
        "        #sum_fr= sum_fr + np.trace(np.dot(temp_H,temp_H.conjugate().T))\n",
        "        #print(np.trace(np.dot(temp_H,temp_H.conjugate().T)))\n",
        "\n",
        "            #temp_H[v1,v2]=complex(dataset[channel_index*3+v1-1,v2+Nt*i],dataset[channel_index*3+v1-1,v2+32+ Nt*i])\n",
        "        data[0,:] = temp_H[0,:].reshape(1,Nt)#data1[:,0]+1j*data1[:,1]\n",
        "        data[1,:] = temp_H[1,:].reshape(1,Nt)#data2[Nt,2*Nt]#+1j*data2[:,1]\n",
        "        #data[0,:] = data1[:,0]+1j*data1[:,1]\n",
        "        #data[1,:] = data2[:,0]+1j*data2[:,1]\n",
        "        #print(np.trace(np.dot(data,data.conjugate().T)))\n",
        "        #if(i!=1):\n",
        "        H[i,:,:] = data;\n",
        "        #print(H[i,:,:])\n",
        "        channel_index=channel_index+1\n",
        "\n",
        "\n",
        "      #initial A、U、W, W_old\n",
        "      A = []\n",
        "      U = []\n",
        "      W = []\n",
        "      V = []\n",
        "      W_old = []\n",
        "      for k in range(K):\n",
        "          A.append(np.zeros((Nr,Nr),complex))\n",
        "          U.append(np.zeros((Nr,d),complex))\n",
        "          W.append(np.zeros((d,d),complex))\n",
        "          W_old.append(np.eye(d)+complex(\"inf\"))\n",
        "          #V.append( np.sqrt(1/2)*(np.random.randn(Nt,Nr)+1j*np.random.randn(Nt,Nr)) )\n",
        "          V.append( np.conj(np.matmul(np.linalg.pinv(np.matmul(H[k],np.conj(H[k]).T)),H[k])).T )\n",
        "\n",
        "      #Scale V\n",
        "      alpha = np.sqrt(PT/np.sum([np.trace(np.dot(V[i],V[i].conjugate().T)) for i in range(K)]))\n",
        "      for k in range(K):  #Scale V_k\n",
        "          V[k] = alpha * V[k]\n",
        "          #print(V[k])\n",
        "\n",
        "      iteration = []\n",
        "      sum_rate = []\n",
        "      t = 0\n",
        "      #while (err > epsilon) or t > Imax:\n",
        "      while  t < 30:\n",
        "          U = update_Uk(A, U, V, H, K, Nr)\n",
        "          W, W_old = update_Wk(U, V, W_old, W, K, d)\n",
        "          V = update_Vk(V, W, U, H, K, Nt, sigma)\n",
        "          #err = abs(np.sum(np.fromiter([np.log(np.linalg.det(W[i])) for i in range(K)],complex)) -  np.sum(np.fromiter([np.log(np.linalg.det(W_old[i])) for i in range(K)],complex)))\n",
        "          sum_rate.append(np.sum(np.fromiter([np.log(np.linalg.det(W[k])) for k in range(K)],complex)))\n",
        "\n",
        "          #sum_rate.append(calculate_sumRate(H,V,K,d))# my code\n",
        "          t += 1;\n",
        "          iteration.append(t)\n",
        "\n",
        "\n",
        "\n",
        "      rate.append(sum_rate[t-1])\n",
        "      index_in_excel=SaveResult_intemp_Object(V,K,index_in_excel)\n",
        "      #plt.plot(iteration,sum_rate)\n",
        "      #plt.xlabel(\"iteration\")\n",
        "      #plt.ylabel(\"rate\")\n",
        "      #plt.show()\n",
        "\n",
        "plt.plot(iteration,sum_rate,label='N_t=32,σ^2=0.01')\n",
        "plt.xlabel(\"итерация\")\n",
        "plt.ylabel(\"пропускная способность бит/(с×Гц)\")\n",
        "plt.legend(loc='upper left')\n",
        "plt.show()\n",
        "print(np.array(rate).mean())\n",
        "print(np.array(rate))\n",
        "#save_inExcel(excel_)\n",
        "#print(V[0])\n",
        "#for i in range(K):\n",
        " # print(V[i])"
      ]
    },
    {
      "cell_type": "code",
      "execution_count": null,
      "metadata": {
        "id": "ztDZPKtwcNpp"
      },
      "outputs": [],
      "source": [
        "#print(dataset[0:Nt].reshape(1,Nt))\n",
        "#print(sum_rate)\n",
        "alpha = np.sqrt(1/np.sum([np.trace(np.dot(V[i],V[i].conjugate().T)) for i in range(K)]))\n",
        "sum=0\n",
        "print(V)\n",
        "for i in range(K):\n",
        "  sum= sum+ np.trace(np.dot(V[i],V[i].conjugate().T))\n",
        "  print(np.trace(np.dot(V[i],V[i].conjugate().T)) )\n",
        "print(sum)\n",
        "#print(np.trace(np.dot(V[K-1],V[K-1].conjugate().T)) )"
      ]
    },
    {
      "cell_type": "code",
      "execution_count": null,
      "metadata": {
        "id": "9kIQek9jeb7S",
        "colab": {
          "base_uri": "https://localhost:8080/"
        },
        "outputId": "465acb30-8fec-4728-c421-94b29825ecb4"
      },
      "outputs": [
        {
          "output_type": "stream",
          "name": "stdout",
          "text": [
            "[[ 0.89343281+1.35068892e-01j -0.65573406-5.94228070e-01j\n",
            "   2.56813687+2.24146987e-01j  1.46351015+2.18156111e+00j\n",
            "  -2.6182741 -2.16399618e+00j -0.9499749 -6.63194281e-01j\n",
            "  -0.15181959-1.44326855e+00j -0.26619233+4.50946279e-01j\n",
            "   0.22822702+1.71223257e+00j  0.23173916-1.80548817e-01j\n",
            "   0.33997704-3.24138418e-01j -0.37881709+3.83141930e-03j\n",
            "   1.087618  +1.36684270e+00j  0.07166583+9.01993319e-02j\n",
            "  -0.35560467-8.90755438e-01j -0.59805669-6.92692789e-01j\n",
            "  -0.85576047+2.15040975e-03j -0.52477339-8.23529161e-01j\n",
            "   0.03376966-1.32245623e+00j  0.49027422-4.20166465e-01j\n",
            "  -0.12200141+4.20140893e-02j  0.12950205+1.46978545e+00j\n",
            "   0.95443855+4.13243275e-01j  0.66858099+8.33254831e-01j\n",
            "   0.23152156-3.17557834e-02j  0.58038429-2.25978528e-01j\n",
            "  -0.15827787-7.45078693e-01j  0.30683095+6.41947705e-01j\n",
            "   0.01086251+7.60827614e-02j -0.35395085-1.70161893e-01j\n",
            "  -0.87454938+9.73459755e-01j -1.05158398-2.51704944e-01j]\n",
            " [ 0.49279072+1.19040189e+00j  1.18764253+8.30253522e-01j\n",
            "   0.67720214-3.01787576e-01j  1.139178  +1.42853497e+00j\n",
            "   0.33971465-1.92530627e-01j  0.16030511-2.83877712e-01j\n",
            "  -0.97052917-2.20458917e-01j -0.47033611-4.59366935e-01j\n",
            "   0.03839425-1.12655553e+00j  0.50674596-2.08351427e-01j\n",
            "  -1.23049762+7.34441525e-01j -0.17754558+1.05871889e+00j\n",
            "  -0.46042824-1.20524162e+00j  1.51425941+3.97303293e-01j\n",
            "   0.63494977+4.15723176e-01j  0.64359665-9.94227003e-01j\n",
            "  -1.73057826+1.52695429e+00j -0.96184898+7.59358779e-01j\n",
            "   0.47613475-8.09917341e-01j  0.84526865-3.18724168e-01j\n",
            "   1.07516029-1.24308275e+00j  0.92127182+1.11801717e+00j\n",
            "  -0.15168978-6.93101228e-01j -0.85835753-9.39286934e-02j\n",
            "   0.82531301-2.05620136e+00j -0.88221584+1.06120304e+00j\n",
            "  -1.11760111-1.20622426e-01j -1.76077283+8.39761801e-01j\n",
            "  -1.0143923 +3.73622119e-01j  0.15289572+1.25794154e-01j\n",
            "  -0.50863203-7.89533405e-01j  0.84495053-6.35128401e-01j]]\n",
            "[[ 0.89343281 -0.65573406  2.56813687  1.46351015 -2.6182741  -0.9499749\n",
            "  -0.15181959 -0.26619233  0.22822702  0.23173916  0.33997704 -0.37881709\n",
            "   1.087618    0.07166583 -0.35560467 -0.59805669 -0.85576047 -0.52477339\n",
            "   0.03376966  0.49027422 -0.12200141  0.12950205  0.95443855  0.66858099\n",
            "   0.23152156  0.58038429 -0.15827787  0.30683095  0.01086251 -0.35395085\n",
            "  -0.87454938 -1.05158398]\n",
            " [ 0.49279072  1.18764253  0.67720214  1.139178    0.33971465  0.16030511\n",
            "  -0.97052917 -0.47033611  0.03839425  0.50674596 -1.23049762 -0.17754558\n",
            "  -0.46042824  1.51425941  0.63494977  0.64359665 -1.73057826 -0.96184898\n",
            "   0.47613475  0.84526865  1.07516029  0.92127182 -0.15168978 -0.85835753\n",
            "   0.82531301 -0.88221584 -1.11760111 -1.76077283 -1.0143923   0.15289572\n",
            "  -0.50863203  0.84495053]]\n",
            "-0.6351284013797341\n"
          ]
        }
      ],
      "source": [
        "print((V[1].T))\n",
        "print(np.real(V[1].T))\n",
        "print(np.imag(V[1].T[1,31]))"
      ]
    }
  ],
  "metadata": {
    "accelerator": "GPU",
    "colab": {
      "provenance": []
    },
    "gpuClass": "standard",
    "kernelspec": {
      "display_name": "Python 3",
      "name": "python3"
    },
    "language_info": {
      "name": "python"
    }
  },
  "nbformat": 4,
  "nbformat_minor": 0
}